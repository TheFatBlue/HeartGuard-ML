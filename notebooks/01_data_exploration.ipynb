{
    "cells": [
     {
      "cell_type": "markdown",
      "metadata": {},
      "source": [
       "# Heart Disease Prediction: Exploratory Data Analysis\n",
       "\n",
       "This notebook explores the heart disease dataset to understand its characteristics, distributions, and potential patterns that could inform feature engineering and model selection.\n",
       "\n",
       "## Project Overview\n",
       "\n",
       "We propose a supervised classification project where the primary objective is to predict heart disease status (Yes/No) based on various patient health indicators. Specifically, we will use the patient's health and lifestyle features to predict Heart Disease Status, in order to identify individuals at risk and recommend early intervention or further diagnostic tests."
      ]
     },
     {
      "cell_type": "code",
      "execution_count": null,
      "metadata": {},
      "source": [
       "# Import necessary libraries\n",
       "import pandas as pd\n",
       "import numpy as np\n",
       "import matplotlib.pyplot as plt\n",
       "import seaborn as sns\n",
       "from pathlib import Path\n",
       "import sys\n",
       "\n",
       "# Add project root to path to import custom modules\n",
       "sys.path.append('..')\n",
       "\n",
       "# Set plotting style\n",
       "plt.style.use('seaborn-whitegrid')\n",
       "plt.rcParams['figure.figsize'] = (12, 8)\n",
       "\n",
       "# Set display options\n",
       "pd.set_option('display.max_columns', None)\n",
       "pd.set_option('display.width', 200)"
      ]
     },
     {
      "cell_type": "code",
      "execution_count": null,
      "metadata": {},
      "source": [
       "# Load project configuration\n",
       "from src.config import RAW_DATA_PATH, TARGET_COLUMN, CATEGORICAL_FEATURES, NUMERICAL_FEATURES\n",
       "from src.data.data_loader import load_data\n",
       "from src.data.preprocessor import check_data_quality, clean_data\n",
       "\n",
       "# Load the raw data\n",
       "data = load_data(RAW_DATA_PATH)\n",
       "\n",
       "# Display the first few rows\n",
       "print(f\"Dataset shape: {data.shape}\")\n",
       "data.head()"
      ]
     },
     {
      "cell_type": "markdown",
      "metadata": {},
      "source": [
       "## Data Overview\n",
       "\n",
       "Let's examine the basic information about our dataset: data types, missing values, and summary statistics."
      ]
     },
     {
      "cell_type": "code",
      "execution_count": null,
      "metadata": {},
      "source": [
       "# Check data types\n",
       "data.dtypes"
      ]
     },
     {
      "cell_type": "code",
      "execution_count": null,
      "metadata": {},
      "source": [
       "# Check for missing values\n",
       "missing_values = data.isnull().sum()\n",
       "missing_percentage = (missing_values / len(data)) * 100\n",
       "\n",
       "missing_df = pd.DataFrame({\n",
       "    'Missing Values': missing_values,\n",
       "    'Percentage': missing_percentage\n",
       "})\n",
       "\n",
       "# Show only columns with missing values\n",
       "missing_df[missing_df['Missing Values'] > 0].sort_values('Percentage', ascending=False)"
      ]
     },
     {
      "cell_type": "code",
      "execution_count": null,
      "metadata": {},
      "source": [
       "# Check data quality with our custom function\n",
       "quality_summary = check_data_quality(data)\n",
       "\n",
       "# Check for duplicates\n",
       "print(f\"Number of duplicate rows: {quality_summary['duplicates']}\")"
      ]
     },
     {
      "cell_type": "code",
      "execution_count": null,
      "metadata": {},
      "source": [
       "# Summary statistics for numerical features\n",
       "data.describe()"
      ]
     },
     {
      "cell_type": "code",
      "execution_count": null,
      "metadata": {},
      "source": [
       "# Summary of categorical features\n",
       "for col in CATEGORICAL_FEATURES:\n",
       "    if col in data.columns:\n",
       "        print(f\"\\n{col}:\")\n",
       "        value_counts = data[col].value_counts(dropna=False)\n",
       "        percentage = value_counts / len(data) * 100\n",
       "        summary = pd.DataFrame({'Count': value_counts, 'Percentage': percentage})\n",
       "        print(summary)"
      ]
     },
     {
      "cell_type": "markdown",
      "metadata": {},
      "source": [
       "## Target Variable Analysis\n",
       "\n",
       "Let's examine the distribution of our target variable (Heart Disease Status) to understand the class imbalance."
      ]
     },
     {
      "cell_type": "code",
      "execution_count": null,
      "metadata": {},
      "source": [
       "# Class distribution\n",
       "target_counts = data[TARGET_COLUMN].value_counts()\n",
       "target_percent = 100 * target_counts / len(data)\n",
       "\n",
       "# Create DataFrame for display\n",
       "target_summary = pd.DataFrame({\n",
       "    'Count': target_counts,\n",
       "    'Percentage': target_percent\n",
       "})\n",
       "\n",
       "print(\"Heart Disease Status Distribution:\")\n",
       "target_summary"
      ]
     },
     {
      "cell_type": "code",
      "execution_count": null,
      "metadata": {},
      "source": [
       "# Visualize target distribution\n",
       "plt.figure(figsize=(10, 6))\n",
       "ax = sns.countplot(x=TARGET_COLUMN, data=data)\n",
       "\n",
       "# Add count and percentage labels\n",
       "for i, p in enumerate(ax.patches):\n",
       "    height = p.get_height()\n",
       "    ax.text(p.get_x() + p.get_width()/2., height + 50,\n",
       "            f'{height} ({target_percent.values[i]:.1f}%)',\n",
       "            ha=\"center\", fontsize=12)\n",
       "\n",
       "plt.title('Distribution of Heart Disease Status', fontsize=14)\n",
       "plt.ylabel('Count', fontsize=12)\n",
       "plt.xlabel('Heart Disease Status', fontsize=12)\n",
       "plt.show()"
      ]
     },
     {
      "cell_type": "markdown",
      "metadata": {},
      "source": [
       "## Feature Analysis\n",
       "\n",
       "Now let's analyze the individual features and their relationship with the target variable."
      ]
     },
     {
      "cell_type": "code",
      "execution_count": null,
      "metadata": {},
      "source": [
       "# Clean the data before analysis\n",
       "cleaned_data = clean_data(data)\n",
       "\n",
       "# Confirm cleaning results\n",
       "print(f\"Original shape: {data.shape}, Cleaned shape: {cleaned_data.shape}\")\n",
       "print(\"\\nMissing values after cleaning:\")\n",
       "print(cleaned_data.isnull().sum().sum())"
      ]
     },
     {
      "cell_type": "markdown",
      "metadata": {},
      "source": [
       "### Numerical Features Analysis"
      ]
     },
     {
      "cell_type": "code",
      "execution_count": null,
      "metadata": {},
      "source": [
       "# Distribution of numerical features\n",
       "fig, axes = plt.subplots(len(NUMERICAL_FEATURES) // 3 + 1, 3, figsize=(18, 4 * (len(NUMERICAL_FEATURES) // 3 + 1)))\n",
       "axes = axes.flatten()\n",
       "\n",
       "for i, feature in enumerate(NUMERICAL_FEATURES):\n",
       "    if feature in cleaned_data.columns:\n",
       "        ax = axes[i]\n",
       "        \n",
       "        # Plot histogram with KDE\n",
       "        sns.histplot(cleaned_data[feature], kde=True, ax=ax)\n",
       "        \n",
       "        # Add vertical line for mean and median\n",
       "        ax.axvline(cleaned_data[feature].mean(), color='red', linestyle='--', label='Mean')\n",
       "        ax.axvline(cleaned_data[feature].median(), color='green', linestyle='-.', label='Median')\n",
       "        \n",
       "        ax.set_title(f'Distribution of {feature}')\n",
       "        ax.legend()\n",
       "\n",
       "# Hide empty subplots if any\n",
       "for j in range(i + 1, len(axes)):\n",
       "    axes[j].set_visible(False)\n",
       "\n",
       "plt.tight_layout()\n",
       "plt.show()"
      ]
     },
     {
      "cell_type": "code",
      "execution_count": null,
      "metadata": {},
      "source": [
       "# Boxplots of numerical features by target class\n",
       "fig, axes = plt.subplots(len(NUMERICAL_FEATURES) // 2 + 1, 2, figsize=(16, 5 * (len(NUMERICAL_FEATURES) // 2 + 1)))\n",
       "axes = axes.flatten()\n",
       "\n",
       "for i, feature in enumerate(NUMERICAL_FEATURES):\n",
       "    if feature in cleaned_data.columns:\n",
       "        ax = axes[i]\n",
       "        \n",
       "        # Convert target to categorical for better visualization\n",
       "        target = cleaned_data[TARGET_COLUMN].astype('category')\n",
       "        \n",
       "        # Plot boxplot\n",
       "        sns.boxplot(x=target, y=feature, data=cleaned_data, ax=ax)\n",
       "        \n",
       "        ax.set_title(f'{feature} by Heart Disease Status')\n",
       "        ax.set_xlabel('Heart Disease Status')\n",
       "        ax.set_ylabel(feature)\n",
       "\n",
       "# Hide empty subplots if any\n",
       "for j in range(i + 1, len(axes)):\n",
       "    axes[j].set_visible(False)\n",
       "\n",
       "plt.tight_layout()\n",
       "plt.show()"
      ]
     },
     {
      "cell_type": "markdown",
      "metadata": {},
      "source": [
       "### Categorical Features Analysis"
      ]
     },
     {
      "cell_type": "code",
      "execution_count": null,
      "metadata": {},
      "source": [
       "# Analysis of categorical features\n",
       "for feature in CATEGORICAL_FEATURES:\n",
       "    if feature in cleaned_data.columns:\n",
       "        plt.figure(figsize=(12, 6))\n",
       "        \n",
       "        # Create a cross-tabulation\n",
       "        crosstab = pd.crosstab(\n",
       "            cleaned_data[feature], \n",
       "            cleaned_data[TARGET_COLUMN],\n",
       "            normalize='index'\n",
       "        )\n",
       "        \n",
       "        # Plot stacked bar chart\n",
       "        crosstab.plot(kind='bar', stacked=True)\n",
       "        \n",
       "        plt.title(f'{feature} vs. Heart Disease Status')\n",
       "        plt.xlabel(feature)\n",
       "        plt.ylabel('Proportion')\n",
       "        plt.xticks(rotation=45)\n",
       "        plt.legend(title='Heart Disease')\n",
       "        plt.tight_layout()\n",
       "        plt.show()\n",
       "        \n",
       "        # Show contingency table\n",
       "        counts = pd.crosstab(cleaned_data[feature], cleaned_data[TARGET_COLUMN])\n",
       "        percentages = pd.crosstab(\n",
       "            cleaned_data[feature], \n",
       "            cleaned_data[TARGET_COLUMN], \n",
       "            normalize='index'\n",
       "        ).round(4) * 100\n",
       "        \n",
       "        # Combine counts and percentages\n",
       "        combined = counts.copy()\n",
       "        for col in counts.columns:\n",
       "            combined[f\"{col} %\"] = percentages[col]\n",
       "        \n",
       "        print(f\"\\n{feature} vs. Heart Disease Status:\")\n",
       "        display(combined)"
      ]
     },
     {
      "cell_type": "markdown",
      "metadata": {},
      "source": [
       "### Correlation Analysis\n",
       "\n",
       "Let's look at the correlation between numerical features and the target variable."
      ]
     },
     {
      "cell_type": "code",
      "execution_count": null,
      "metadata": {},
      "source": [
       "# Convert target to numeric for correlation analysis\n",
       "cleaned_data_corr = cleaned_data.copy()\n",
       "if cleaned_data_corr[TARGET_COLUMN].dtype == 'object':\n",
       "    cleaned_data_corr[TARGET_COLUMN] = cleaned_data_corr[TARGET_COLUMN].map({'Yes': 1, 'No': 0})\n",
       "\n",
       "# Select only numerical columns\n",
       "numerical_data = cleaned_data_corr.select_dtypes(include=[np.number])\n",
       "\n",
       "# Compute correlation matrix\n",
       "corr_matrix = numerical_data.corr()\n",
       "\n",
       "# Plot correlation heatmap\n",
       "plt.figure(figsize=(14, 12))\n",
       "mask = np.triu(np.ones_like(corr_matrix, dtype=bool))\n",
       "cmap = sns.diverging_palette(220, 10, as_cmap=True)\n",
       "\n",
       "sns.heatmap(corr_matrix, mask=mask, cmap=cmap, vmax=1, vmin=-1, center=0,\n",
       "            square=True, linewidths=.5, annot=True, fmt='.2f', cbar_kws={\"shrink\": .5})\n",
       "\n",
       "plt.title('Correlation Matrix of Numerical Features', fontsize=16)\n",
       "plt.tight_layout()\n",
       "plt.show()"
      ]
     },
     {
      "cell_type": "code",
      "execution_count": null,
      "metadata": {},
      "source": [
       "# Focus on correlations with the target variable\n",
       "target_correlations = corr_matrix[TARGET_COLUMN].drop(TARGET_COLUMN).sort_values(ascending=False)\n",
       "\n",
       "plt.figure(figsize=(10, 8))\n",
       "sns.barplot(x=target_correlations.values, y=target_correlations.index)\n",
       "plt.title('Correlation with Heart Disease Status', fontsize=14)\n",
       "plt.xlabel('Correlation Coefficient', fontsize=12)\n",
       "plt.axvline(x=0, color='black', linestyle='--')\n",
       "plt.grid(axis='x')\n",
       "plt.tight_layout()\n",
       "plt.show()\n",
       "\n",
       "print(\"\\nNumerical features correlation with Heart Disease Status:\")\n",
       "display(pd.DataFrame({'Correlation': target_correlations}))"
      ]
     },
     {
      "cell_type": "markdown",
      "metadata": {},
      "source": [
       "## Feature Engineering Exploration\n",
       "\n",
       "Let's explore some potential feature interactions that might be useful for our model."
      ]
     },
     {
      "cell_type": "code",
      "execution_count": null,
      "metadata": {},
      "source": [
       "# Import feature engineering functions\n",
       "from src.features.feature_engineering import create_interaction_features, compute_lipid_ratio\n",
       "\n",
       "# Create interaction features\n",
       "enhanced_data = create_interaction_features(cleaned_data)\n",
       "\n",
       "# Add lipid ratio feature\n",
       "enhanced_data = compute_lipid_ratio(enhanced_data)\n",
       "\n",
       "# Check new features\n",
       "new_features = [col for col in enhanced_data.columns if col not in cleaned_data.columns]\n",
       "print(f\"New features created: {new_features}\")\n",
       "\n",
       "# Preview the enhanced data\n",
       "enhanced_data[new_features + [TARGET_COLUMN]].head()"
      ]
     },
     {
      "cell_type": "code",
      "execution_count": null,
      "metadata": {},
      "source": [
       "# Analyze correlation of new features with target\n",
       "enhanced_data_corr = enhanced_data.copy()\n",
       "if enhanced_data_corr[TARGET_COLUMN].dtype == 'object':\n",
       "    enhanced_data_corr[TARGET_COLUMN] = enhanced_data_corr[TARGET_COLUMN].map({'Yes': 1, 'No': 0})\n",
       "\n",
       "# Select numerical columns including the new features\n",
       "numerical_enhanced = enhanced_data_corr.select_dtypes(include=[np.number])\n",
       "\n",
       "# Correlation of new features with target\n",
       "new_features_corr = numerical_enhanced[new_features + [TARGET_COLUMN]].corr()[TARGET_COLUMN].drop(TARGET_COLUMN)\n",
       "\n",
       "plt.figure(figsize=(10, 6))\n",
       "sns.barplot(x=new_features_corr.values, y=new_features_corr.index)\n",
       "plt.title('New Features: Correlation with Heart Disease Status', fontsize=14)\n",
       "plt.xlabel('Correlation Coefficient', fontsize=12)\n",
       "plt.axvline(x=0, color='black', linestyle='--')\n",
       "plt.grid(axis='x')\n",
       "plt.tight_layout()\n",
       "plt.show()\n",
       "\n",
       "print(\"\\nNew features correlation with Heart Disease Status:\")\n",
       "display(pd.DataFrame({'Correlation': new_features_corr}))"
      ]
     },
     {
      "cell_type": "markdown",
      "metadata": {},
      "source": [
       "## Age Group Analysis\n",
       "\n",
       "Let's analyze heart disease rates across different age groups."
      ]
     },
     {
      "cell_type": "code",
      "execution_count": null,
      "metadata": {},
      "source": [
       "# Create age groups\n",
       "if 'Age' in cleaned_data.columns:\n",
       "    age_data = cleaned_data.copy()\n",
       "    \n",
       "    # Create age bins\n",
       "    age_bins = [0, 30, 40, 50, 60, 70, 100]\n",
       "    age_labels = ['<30', '30-40', '40-50', '50-60', '60-70', '70+']\n",
       "    \n",
       "    age_data['Age Group'] = pd.cut(age_data['Age'], bins=age_bins, labels=age_labels, right=False)\n",
       "    \n",
       "    # Calculate heart disease rate by age group\n",
       "    if age_data[TARGET_COLUMN].dtype == 'object':\n",
       "        age_data['Heart Disease Numeric'] = age_data[TARGET_COLUMN].map({'Yes': 1, 'No': 0})\n",
       "    else:\n",
       "        age_data['Heart Disease Numeric'] = age_data[TARGET_COLUMN]\n",
       "    \n",
       "    age_group_analysis = age_data.groupby('Age Group')['Heart Disease Numeric'].agg(['count', 'mean', 'sum'])\n",
       "    age_group_analysis.columns = ['Total Count', 'Heart Disease Rate', 'Heart Disease Count']\n",
       "    age_group_analysis['Heart Disease Rate'] = age_group_analysis['Heart Disease Rate'] * 100\n",
       "    \n",
       "    # Plot\n",
       "    fig, (ax1, ax2) = plt.subplots(1, 2, figsize=(16, 6))\n",
       "    \n",
       "    # Count by age group\n",
       "    sns.barplot(x=age_group_analysis.index, y='Total Count', data=age_group_analysis, ax=ax1)\n",
       "    ax1.set_title('Sample Count by Age Group', fontsize=14)\n",
       "    ax1.set_ylabel('Count')\n",
       "    ax1.set_xlabel('Age Group')\n",
       "    \n",
       "    # Add count labels\n",
       "    for i, p in enumerate(ax1.patches):\n",
       "        ax1.annotate(f\"{int(p.get_height())}\", \n",
       "                  (p.get_x() + p.get_width() / 2., p.get_height()), \n",
       "                  ha = 'center', va = 'bottom')\n",
       "    \n",
       "    # Heart disease rate by age group\n",
       "    sns.barplot(x=age_group_analysis.index, y='Heart Disease Rate', data=age_group_analysis, ax=ax2)\n",
       "    ax2.set_title('Heart Disease Rate by Age Group', fontsize=14)\n",
       "    ax2.set_ylabel('Heart Disease Rate (%)')\n",
       "    ax2.set_xlabel('Age Group')\n",
       "    \n",
       "    # Add percentage labels\n",
       "    for i, p in enumerate(ax2.patches):\n",
       "        ax2.annotate(f\"{p.get_height():.1f}%\", \n",
       "                  (p.get_x() + p.get_width() / 2., p.get_height()), \n",
       "                  ha = 'center', va = 'bottom')\n",
       "    \n",
       "    plt.tight_layout()\n",
       "    plt.show()\n",
       "    \n",
       "    print(\"\\nHeart Disease Analysis by Age Group:\")\n",
       "    display(age_group_analysis)"
      ]
     },
     {
      "cell_type": "markdown",
      "metadata": {},
      "source": [
       "## Risk Factor Combinations\n",
       "\n",
       "Let's explore how combinations of risk factors affect heart disease rates."
      ]
     },
     {
      "cell_type": "code",
      "execution_count": null,
      "metadata": {},
      "source": [
       "# Analyze common risk factor combinations\n",
       "risk_factors = ['Smoking', 'High Blood Pressure', 'Diabetes', 'Family Heart Disease']\n",
       "risk_data = cleaned_data.copy()\n",
       "\n",
       "# Ensure all risk factors are binary\n",
       "for factor in risk_factors:\n",
       "    if factor in risk_data.columns and risk_data[factor].dtype == 'object':\n",
       "        risk_data[factor] = risk_data[factor].map({'Yes': 1, 'No': 0})\n",
       "\n",
       "# Convert target to numeric if needed\n",
       "if risk_data[TARGET_COLUMN].dtype == 'object':\n",
       "    risk_data['Heart Disease Numeric'] = risk_data[TARGET_COLUMN].map({'Yes': 1, 'No': 0})\n",
       "else:\n",
       "    risk_data['Heart Disease Numeric'] = risk_data[TARGET_COLUMN]\n",
       "\n",
       "# Calculate number of risk factors for each person\n",
       "available_factors = [f for f in risk_factors if f in risk_data.columns]\n",
       "risk_data['Risk Factor Count'] = risk_data[available_factors].sum(axis=1)\n",
       "\n",
       "# Analysis by risk factor count\n",
       "risk_count_analysis = risk_data.groupby('Risk Factor Count')['Heart Disease Numeric'].agg(['count', 'mean', 'sum'])\n",
       "risk_count_analysis.columns = ['Total Count', 'Heart Disease Rate', 'Heart Disease Count']\n",
       "risk_count_analysis['Heart Disease Rate'] = risk_count_analysis['Heart Disease Rate'] * 100\n",
       "\n",
       "# Plot\n",
       "fig, (ax1, ax2) = plt.subplots(1, 2, figsize=(16, 6))\n",
       "\n",
       "# Count by risk factor count\n",
       "sns.barplot(x=risk_count_analysis.index, y='Total Count', data=risk_count_analysis, ax=ax1)\n",
       "ax1.set_title('Sample Count by Number of Risk Factors', fontsize=14)\n",
       "ax1.set_ylabel('Count')\n",
       "ax1.set_xlabel('Number of Risk Factors')\n",
       "\n",
       "# Add count labels\n",
       "for i, p in enumerate(ax1.patches):\n",
       "    ax1.annotate(f\"{int(p.get_height())}\", \n",
       "              (p.get_x() + p.get_width() / 2., p.get_height()), \n",
       "              ha = 'center', va = 'bottom')\n",
       "\n",
       "# Heart disease rate by risk factor count\n",
       "sns.barplot(x=risk_count_analysis.index, y='Heart Disease Rate', data=risk_count_analysis, ax=ax2)\n",
       "ax2.set_title('Heart Disease Rate by Number of Risk Factors', fontsize=14)\n",
       "ax2.set_ylabel('Heart Disease Rate (%)')\n",
       "ax2.set_xlabel('Number of Risk Factors')\n",
       "\n",
       "# Add percentage labels\n",
       "for i, p in enumerate(ax2.patches):\n",
       "    ax2.annotate(f\"{p.get_height():.1f}%\", \n",
       "              (p.get_x() + p.get_width() / 2., p.get_height()), \n",
       "              ha = 'center', va = 'bottom')\n",
       "\n",
       "plt.tight_layout()\n",
       "plt.show()\n",
       "\n",
       "print(\"\\nHeart Disease Analysis by Number of Risk Factors:\")\n",
       "display(risk_count_analysis)"
      ]
     },
     {
      "cell_type": "markdown",
      "metadata": {},
      "source": [
       "## Summary of Exploratory Analysis\n",
       "\n",
       "Let's summarize our key findings from the exploratory data analysis."
      ]
     },
     {
      "cell_type": "code",
      "execution_count": null,
      "metadata": {},
      "source": [
       "# Calculate the imbalance ratio\n",
       "if 'Heart Disease Status' in cleaned_data.columns:\n",
       "    if cleaned_data['Heart Disease Status'].dtype == 'object':\n",
       "        pos_count = (cleaned_data['Heart Disease Status'] == 'Yes').sum()\n",
       "        neg_count = (cleaned_data['Heart Disease Status'] == 'No').sum()\n",
       "    else:\n",
       "        pos_count = (cleaned_data['Heart Disease Status'] == 1).sum()\n",
       "        neg_count = (cleaned_data['Heart Disease Status'] == 0).sum()\n",
       "        \n",
       "    imbalance_ratio = neg_count / pos_count if pos_count > 0 else float('inf')\n",
       "    print(f\"Class imbalance ratio (Negative:Positive): {imbalance_ratio:.2f}:1\")\n",
       "\n",
       "# Identify top correlated features\n",
       "if 'target_correlations' in locals():\n",
       "    top_positive = target_correlations[target_correlations > 0].head(5)\n",
       "    top_negative = target_correlations[target_correlations < 0].sort_values().head(5)\n",
       "    \n",
       "    print(\"\\nTop positively correlated features with Heart Disease:\")\n",
       "    for feature, corr in top_positive.items():\n",
       "        print(f\"- {feature}: {corr:.3f}\")\n",
       "        \n",
       "    print(\"\\nTop negatively correlated features with Heart Disease:\")\n",
       "    for feature, corr in top_negative.items():\n",
       "        print(f\"- {feature}: {corr:.3f}\")\n",
       "\n",
       "# Summary of missing values\n",
       "missing_counts = cleaned_data.isnull().sum()\n",
       "features_with_missing = missing_counts[missing_counts > 0]\n",
       "if len(features_with_missing) > 0:\n",
       "    print(\"\\nFeatures with missing values:\")\n",
       "    for feature, count in features_with_missing.items():\n",
       "        print(f\"- {feature}: {count} missing values ({count/len(cleaned_data)*100:.2f}%)\")\n",
       "else:\n",
       "    print(\"\\nNo missing values after cleaning.\")"
      ]
     },
     {
      "cell_type": "markdown",
      "metadata": {},
      "source": [
       "## Key Takeaways\n",
       "\n",
       "Based on the exploratory data analysis, here are the key takeaways:\n",
       "\n",
       "1. **Class Imbalance**: The dataset shows significant class imbalance, with heart disease cases being the minority class. This will need to be addressed in our modeling approach.\n",
       "\n",
       "2. **Important Features**: Several features show strong correlation with heart disease status, including [top features identified above].\n",
       "\n",
       "3. **Age Factor**: Heart disease prevalence increases with age, with a notable jump in the 50+ age groups.\n",
       "\n",
       "4. **Risk Factor Combinations**: The presence of multiple risk factors significantly increases heart disease likelihood.\n",
       "\n",
       "5. **Feature Engineering**: We've created several interaction features that show promising correlations with the target variable.\n",
       "\n",
       "6. **Missing Values**: [Summary of missing value handling strategy].\n",
       "\n",
       "These insights will guide our feature engineering, model selection, and evaluation approaches in the subsequent modeling phase."
      ]
     }
    ],
    "metadata": {
     "kernelspec": {
      "display_name": "Python 3",
      "language": "python",
      "name": "python3"
     },
     "language_info": {
      "codemirror_mode": {
       "name": "ipython",
       "version": 3
      },
      "file_extension": ".py",
      "mimetype": "text/x-python",
      "name": "python",
      "nbconvert_exporter": "python",
      "pygments_lexer": "ipython3",
      "version": "3.8.5"
     }
    },
    "nbformat": 4,
    "nbformat_minor": 4
}